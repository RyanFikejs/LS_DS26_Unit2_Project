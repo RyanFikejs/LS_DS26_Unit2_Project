{
 "cells": [
  {
   "cell_type": "markdown",
   "metadata": {},
   "source": [
    "# Unit 2 Portfolio Project\n",
    "## Predictive Modeling with Spotify Data\n",
    "Ryan Fikejs - *Data Science, Lambda School DS 26*"
   ]
  },
  {
   "cell_type": "markdown",
   "metadata": {},
   "source": [
    "### Module 3 Tasks (v1.2)\n",
    "\n",
    "*Continue to clean and explore your data. Make exploratory visualizations*\n",
    "\n",
    "\n",
    "\n",
    "*Fit a model. Does it beat your baseline?*\n",
    "\n",
    "Yes.\n",
    "\n",
    "*Try XGBoost*\n",
    "\n",
    "Didn't perform as well on first run, but I will take out some features and do some more tuning.\n",
    "\n",
    "*Get your model's permutation importances.*\n",
    "\n",
    "\n",
    "**Notes:**\n",
    "\n",
    "• Added <inplace=True> to the part of the wrangle function dropping 'popularity' feature \n",
    "\n",
    "• Considering looking at releases from the past 20 - 50 years as I think that would still be a relevant set of data to learn from."
   ]
  },
  {
   "cell_type": "markdown",
   "metadata": {},
   "source": [
    "### Module 2 (Tasks v1.1)\n",
    "\n",
    "*Continue to clean and explore your data.*\n",
    "\n",
    "Data is very clean, but I did decide on a few columns to create and drop.\n",
    "\n",
    "*For the evaluation metric you chose, what score would you get just by guessing?*\n",
    "\n",
    "For this afternoon I just went ahead with the accuracy score, but tonight I will experiment with others.\n",
    "\n",
    "*Can you make a fast, first model that beats guessing?*\n",
    "\n",
    "I did, but it may be too good. Further investigating tonight\n",
    "\n",
    "\n",
    "**Notes:**\n",
    "\n",
    "• I did change my target array to five classes / buckets (100+ is too many for what I'm trying to do)\n",
    "\n",
    "• I may change my target to a binary classification\n",
    "\n",
    "• I may consider trying to do this task for a more specific genre in order to work with a smaller data set."
   ]
  },
  {
   "cell_type": "markdown",
   "metadata": {},
   "source": [
    "### Module 1 Tasks\n",
    "\n",
    "*Choose your target. Which column in your tabular dataset will you predict?*\n",
    "\n",
    "My target is the popularity rating.\n",
    "\n",
    "*Is your problem regression or classification?*\n",
    "\n",
    "Currently considering it a large scale classification problem, (there are 101 classes involved) wondering if I should cut it down as was done in the burrito problem and say a popularity rating of 80-100 is very popular, below 80 is not very popular.\n",
    "\n",
    "*How is your target distributed?*\n",
    "\n",
    "*Classification: How many classes? Are the classes imbalanced?*\n",
    "\n",
    "101 classes very imbalanced.\n",
    "\n",
    "*Choose your evaluation metric(s).*\n",
    "\n",
    "*Classification: Is your majority class frequency >= 50% and < 70% ? If so, you can just use accuracy if you want. Outside that \n",
    "range, accuracy could be misleading. What evaluation metric will you choose, in addition to or instead of accuracy?*\n",
    "\n",
    "No, I will likely be using F1-score and AUC of ROC. (Maybe categorical crossentropy if I learn enough about it and it makes sense to, I heard it's good for generalizing multiclass problems, but is typically used with neural networks.)\n",
    "\n",
    "*Choose which observations you will use to train, validate, and test your model.*\n",
    "\n",
    "I will use a random selection via train test split to separate atraining set and cross validation for training and validation.\n",
    "\n",
    "*Are some observations outliers? Will you exclude them?*\n",
    "\n",
    "No\n",
    "\n",
    "*Will you do a random split or a time-based split?*\n",
    "\n",
    "Random split\n",
    "\n",
    "*Begin to clean and explore your data.*\n",
    "\n",
    "*Begin to choose which features, if any, to exclude. Would some features \"leak\" future information?*\n",
    "\n",
    "I will leave out song ID and name. I may keep either artists or id_artists."
   ]
  },
  {
   "cell_type": "markdown",
   "metadata": {},
   "source": [
    "## I. Wrangle Data"
   ]
  },
  {
   "cell_type": "markdown",
   "metadata": {},
   "source": [
    "### Import packages"
   ]
  },
  {
   "cell_type": "code",
   "execution_count": 16,
   "metadata": {},
   "outputs": [],
   "source": [
    "# For data frame manipulation\n",
    "import pandas as pd\n",
    "\n",
    "# For more math horsepower\n",
    "import numpy as np\n",
    "\n",
    "# For plotting\n",
    "import matplotlib.pyplot as plt\n",
    "\n",
    "# For pipeline and model building\n",
    "# Pipeline\n",
    "from sklearn.pipeline import make_pipeline\n",
    "# Transformers\n",
    "from category_encoders import OrdinalEncoder\n",
    "from sklearn.preprocessing import StandardScaler\n",
    "# For random forest\n",
    "from sklearn.ensemble import RandomForestClassifier\n",
    "# For gradient boost\n",
    "from xgboost import XGBClassifier\n",
    "# For splitting data, scoring, tuning\n",
    "from sklearn.model_selection import train_test_split, cross_val_score, RandomizedSearchCV\n",
    "\n",
    "# For scoring and evaluating results\n",
    "from sklearn.metrics import accuracy_score, plot_confusion_matrix, classification_report\n",
    "# For determining most important features\n",
    "from sklearn.inspection import permutation_importance"
   ]
  },
  {
   "cell_type": "markdown",
   "metadata": {},
   "source": [
    "## Wrangle Data"
   ]
  },
  {
   "cell_type": "code",
   "execution_count": 2,
   "metadata": {},
   "outputs": [],
   "source": [
    "def wrangle(file_path):\n",
    "    df = pd.read_csv(file_path,\n",
    "                    parse_dates=['release_date'])\n",
    "    \n",
    "    # Split release_date into day, month, year, then drop it\n",
    "    df['released_year'] = df['release_date'].dt.year\n",
    "    df['released_month'] = df['release_date'].dt.month\n",
    "    df['released_day'] = df['release_date'].dt.day\n",
    "    df.drop(columns=['release_date'], inplace=True)\n",
    "    \n",
    "    # Make new buckets for prediction\n",
    "    df['popular'] = [0 if r<19 else 1 if r<39 else 2 if r<59 else 3 if r<79 else 4 for r in df['popularity']]\n",
    "    df.drop(columns='popularity', inplace=True)\n",
    "    \n",
    "    # Drop columns I suspect do not imfluence the target, or are redundant\n",
    "    df.drop(columns=['id', 'name', 'artists'], inplace=True)\n",
    "    \n",
    "    return df"
   ]
  },
  {
   "cell_type": "code",
   "execution_count": 3,
   "metadata": {},
   "outputs": [],
   "source": [
    "df = wrangle('data/tracks.csv')"
   ]
  },
  {
   "cell_type": "code",
   "execution_count": 4,
   "metadata": {},
   "outputs": [
    {
     "name": "stdout",
     "output_type": "stream",
     "text": [
      "<class 'pandas.core.frame.DataFrame'>\n",
      "RangeIndex: 586672 entries, 0 to 586671\n",
      "Data columns (total 19 columns):\n",
      " #   Column            Non-Null Count   Dtype  \n",
      "---  ------            --------------   -----  \n",
      " 0   duration_ms       586672 non-null  int64  \n",
      " 1   explicit          586672 non-null  int64  \n",
      " 2   id_artists        586672 non-null  object \n",
      " 3   danceability      586672 non-null  float64\n",
      " 4   energy            586672 non-null  float64\n",
      " 5   key               586672 non-null  int64  \n",
      " 6   loudness          586672 non-null  float64\n",
      " 7   mode              586672 non-null  int64  \n",
      " 8   speechiness       586672 non-null  float64\n",
      " 9   acousticness      586672 non-null  float64\n",
      " 10  instrumentalness  586672 non-null  float64\n",
      " 11  liveness          586672 non-null  float64\n",
      " 12  valence           586672 non-null  float64\n",
      " 13  tempo             586672 non-null  float64\n",
      " 14  time_signature    586672 non-null  int64  \n",
      " 15  released_year     586672 non-null  int64  \n",
      " 16  released_month    586672 non-null  int64  \n",
      " 17  released_day      586672 non-null  int64  \n",
      " 18  popular           586672 non-null  int64  \n",
      "dtypes: float64(9), int64(9), object(1)\n",
      "memory usage: 85.0+ MB\n"
     ]
    }
   ],
   "source": [
    "df.info()"
   ]
  },
  {
   "cell_type": "code",
   "execution_count": 5,
   "metadata": {},
   "outputs": [
    {
     "name": "stdout",
     "output_type": "stream",
     "text": [
      "1    219413\n",
      "0    199566\n",
      "2    136353\n",
      "3     30107\n",
      "4      1233\n",
      "Name: popular, dtype: int64\n"
     ]
    },
    {
     "data": {
      "image/png": "[encoded data removed]",
      "text/plain": [
       "<Figure size 432x288 with 1 Axes>"
      ]
     },
     "metadata": {
      "needs_background": "light"
     },
     "output_type": "display_data"
    }
   ],
   "source": [
    "# Look at the distribution of the target\n",
    "class_dist = df['popular']\n",
    "print(class_dist.value_counts())\n",
    "plt.hist(class_dist, bins=5);"
   ]
  },
  {
   "cell_type": "code",
   "execution_count": 6,
   "metadata": {},
   "outputs": [
    {
     "data": {
      "text/plain": [
       "duration_ms         123122\n",
       "explicit                 2\n",
       "id_artists          115062\n",
       "danceability          1285\n",
       "energy                2571\n",
       "key                     12\n",
       "loudness             29196\n",
       "mode                     2\n",
       "speechiness           1655\n",
       "acousticness          5217\n",
       "instrumentalness      5402\n",
       "liveness              1782\n",
       "valence               1805\n",
       "tempo               122706\n",
       "time_signature           5\n",
       "released_year          101\n",
       "released_month          12\n",
       "released_day            31\n",
       "popular                  5\n",
       "dtype: int64"
      ]
     },
     "execution_count": 6,
     "metadata": {},
     "output_type": "execute_result"
    }
   ],
   "source": [
    "df.nunique()"
   ]
  },
  {
   "cell_type": "code",
   "execution_count": 7,
   "metadata": {},
   "outputs": [
    {
     "data": {
      "text/plain": [
       "duration_ms         0\n",
       "explicit            0\n",
       "id_artists          0\n",
       "danceability        0\n",
       "energy              0\n",
       "key                 0\n",
       "loudness            0\n",
       "mode                0\n",
       "speechiness         0\n",
       "acousticness        0\n",
       "instrumentalness    0\n",
       "liveness            0\n",
       "valence             0\n",
       "tempo               0\n",
       "time_signature      0\n",
       "released_year       0\n",
       "released_month      0\n",
       "released_day        0\n",
       "popular             0\n",
       "dtype: int64"
      ]
     },
     "execution_count": 7,
     "metadata": {},
     "output_type": "execute_result"
    }
   ],
   "source": [
    "df.isnull().sum()"
   ]
  },
  {
   "cell_type": "code",
   "execution_count": null,
   "metadata": {},
   "outputs": [],
   "source": []
  },
  {
   "cell_type": "markdown",
   "metadata": {},
   "source": [
    "## Split Data"
   ]
  },
  {
   "cell_type": "code",
   "execution_count": 8,
   "metadata": {},
   "outputs": [],
   "source": [
    "# Establish the target and split the data accordingly\n",
    "target = 'popular'\n",
    "X_ = df.drop(columns=target)\n",
    "y_ = df[target]"
   ]
  },
  {
   "cell_type": "code",
   "execution_count": 9,
   "metadata": {},
   "outputs": [],
   "source": [
    "# Split the data into training and testing sets\n",
    "X, X_test, y, y_test = train_test_split(X_, y_, train_size=0.8, random_state=73)\n",
    "\n",
    "# Further split training set into training and \n",
    "# validation for initial model\n",
    "X_train, X_val, y_train, y_val = train_test_split(X, y, train_size=0.8, random_state=37)"
   ]
  },
  {
   "cell_type": "markdown",
   "metadata": {},
   "source": [
    "## Establish a Baseline"
   ]
  },
  {
   "cell_type": "code",
   "execution_count": 10,
   "metadata": {},
   "outputs": [
    {
     "name": "stdout",
     "output_type": "stream",
     "text": [
      "Baseline: 0.3747413905147048\n"
     ]
    }
   ],
   "source": [
    "baseline = y.value_counts(normalize=True).max()\n",
    "print(f'Baseline: {baseline}')"
   ]
  },
  {
   "cell_type": "code",
   "execution_count": null,
   "metadata": {},
   "outputs": [],
   "source": []
  },
  {
   "cell_type": "markdown",
   "metadata": {},
   "source": [
    "## Build a Model"
   ]
  },
  {
   "cell_type": "markdown",
   "metadata": {},
   "source": [
    "### Random Forest (bagging model)"
   ]
  },
  {
   "cell_type": "code",
   "execution_count": 11,
   "metadata": {
    "collapsed": true
   },
   "outputs": [
    {
     "data": {
      "text/plain": [
       "Pipeline(steps=[('ordinalencoder',\n",
       "                 OrdinalEncoder(cols=['id_artists'],\n",
       "                                mapping=[{'col': 'id_artists',\n",
       "                                          'data_type': dtype('O'),\n",
       "                                          'mapping': ['7Ch5fs1WRyYzlkiclW5tFJ']        1\n",
       "['2tRsMl4eGxwoNabM08Dm4I']        2\n",
       "['48YxSlb23RAaCd4RyHcV9V']        3\n",
       "['7rcYk7wXrIQYA2qBccfscc']        4\n",
       "['2clfvqAuuKp7PEhl6ZadTl']        5\n",
       "                              ...  \n",
       "['7AfDbA1rEHwRhzPH6jHSUE']    88316\n",
       "['66BpLv7bc0OLbr50D1cnGS']    88317\n",
       "['2ZVhkGdeedqMVD3oQM0O6N']    88318\n",
       "['7xYxgSJaIf7yOFLmknYX38']    88319\n",
       "NaN                              -2\n",
       "Length: 88320, dtype: int64}])),\n",
       "                ('standardscaler', StandardScaler()),\n",
       "                ('randomforestclassifier',\n",
       "                 RandomForestClassifier(n_jobs=-2, random_state=37))])"
      ]
     },
     "execution_count": 11,
     "metadata": {},
     "output_type": "execute_result"
    }
   ],
   "source": [
    "# Make a model using a random forest\n",
    "model_rf = make_pipeline(\n",
    "            OrdinalEncoder(),\n",
    "            StandardScaler(),\n",
    "            RandomForestClassifier(random_state=37, n_jobs=-2))\n",
    "\n",
    "# Fit the random forest model\n",
    "model_rf.fit(X_train, y_train)"
   ]
  },
  {
   "cell_type": "markdown",
   "metadata": {},
   "source": [
    "### XGBoost (boosting model)"
   ]
  },
  {
   "cell_type": "code",
   "execution_count": 19,
   "metadata": {},
   "outputs": [
    {
     "name": "stderr",
     "output_type": "stream",
     "text": [
      "C:\\ProgramData\\Anaconda3\\lib\\site-packages\\xgboost\\sklearn.py:1146: UserWarning: The use of label encoder in XGBClassifier is deprecated and will be removed in a future release. To remove this warning, do the following: 1) Pass option use_label_encoder=False when constructing XGBClassifier object; and 2) Encode your labels (y) as integers starting with 0, i.e. 0, 1, 2, ..., [num_class - 1].\n",
      "  warnings.warn(label_encoder_deprecation_msg, UserWarning)\n"
     ]
    },
    {
     "name": "stdout",
     "output_type": "stream",
     "text": [
      "[00:20:00] WARNING: C:/Users/Administrator/workspace/xgboost-win64_release_1.4.0/src/learner.cc:1095: Starting in XGBoost 1.3.0, the default evaluation metric used with the objective 'multi:softprob' was changed from 'merror' to 'mlogloss'. Explicitly set eval_metric if you'd like to restore the old behavior.\n"
     ]
    },
    {
     "data": {
      "text/plain": [
       "Pipeline(steps=[('ordinalencoder',\n",
       "                 OrdinalEncoder(cols=['id_artists'],\n",
       "                                mapping=[{'col': 'id_artists',\n",
       "                                          'data_type': dtype('O'),\n",
       "                                          'mapping': ['7Ch5fs1WRyYzlkiclW5tFJ']        1\n",
       "['2tRsMl4eGxwoNabM08Dm4I']        2\n",
       "['48YxSlb23RAaCd4RyHcV9V']        3\n",
       "['7rcYk7wXrIQYA2qBccfscc']        4\n",
       "['2clfvqAuuKp7PEhl6ZadTl']        5\n",
       "                              ...  \n",
       "['7AfDbA1rEHwRhzPH6jHSUE']    88316\n",
       "['66BpLv7bc0OLbr50D1cnGS']    88317\n",
       "['2ZVhkGdeedqMVD3oQ...\n",
       "                               importance_type='gain',\n",
       "                               interaction_constraints='',\n",
       "                               learning_rate=0.300000012, max_delta_step=0,\n",
       "                               max_depth=6, min_child_weight=1, missing=nan,\n",
       "                               monotone_constraints='()', n_estimators=36,\n",
       "                               n_jobs=-2, num_parallel_tree=1,\n",
       "                               objective='multi:softprob', random_state=73,\n",
       "                               reg_alpha=0, reg_lambda=1, scale_pos_weight=None,\n",
       "                               subsample=1, tree_method='exact',\n",
       "                               validate_parameters=1, verbosity=None))])"
      ]
     },
     "execution_count": 19,
     "metadata": {},
     "output_type": "execute_result"
    }
   ],
   "source": [
    "# Make a boosted model\n",
    "model_xgb = make_pipeline(\n",
    "    OrdinalEncoder(),\n",
    "    StandardScaler(),\n",
    "    XGBClassifier(n_estimators=36, random_state=73, n_jobs=-2)\n",
    ")\n",
    "\n",
    "# Fit the boosted model\n",
    "model_xgb.fit(X_train, y_train)"
   ]
  },
  {
   "cell_type": "markdown",
   "metadata": {},
   "source": [
    "## Check Metrics"
   ]
  },
  {
   "cell_type": "code",
   "execution_count": 12,
   "metadata": {
    "scrolled": true
   },
   "outputs": [
    {
     "name": "stdout",
     "output_type": "stream",
     "text": [
      "0.9963405767187171\n",
      "0.6127753867132569\n"
     ]
    }
   ],
   "source": [
    "# Accuracy scores for random forest model\n",
    "print(accuracy_score(y_train, model_rf.predict(X_train)))\n",
    "print(accuracy_score(y_val, model_rf.predict(X_val)))"
   ]
  },
  {
   "cell_type": "code",
   "execution_count": 20,
   "metadata": {},
   "outputs": [
    {
     "name": "stderr",
     "output_type": "stream",
     "text": [
      "C:\\ProgramData\\Anaconda3\\lib\\site-packages\\xgboost\\data.py:112: UserWarning: Use subset (sliced data) of np.ndarray is not recommended because it will generate extra copies and increase memory consumption\n",
      "  warnings.warn(\n"
     ]
    },
    {
     "name": "stdout",
     "output_type": "stream",
     "text": [
      "0.6108520277306515\n",
      "0.5937593216005455\n"
     ]
    },
    {
     "name": "stderr",
     "output_type": "stream",
     "text": [
      "C:\\ProgramData\\Anaconda3\\lib\\site-packages\\xgboost\\data.py:112: UserWarning: Use subset (sliced data) of np.ndarray is not recommended because it will generate extra copies and increase memory consumption\n",
      "  warnings.warn(\n"
     ]
    }
   ],
   "source": [
    "# Accuracy scores for gradient boost model\n",
    "print(accuracy_score(y_train, model_xgb.predict(X_train)))\n",
    "print(accuracy_score(y_val, model_xgb.predict(X_val)))"
   ]
  },
  {
   "cell_type": "code",
   "execution_count": 13,
   "metadata": {},
   "outputs": [
    {
     "name": "stdout",
     "output_type": "stream",
     "text": [
      "              precision    recall  f1-score   support\n",
      "\n",
      "           0       0.78      0.66      0.72     31957\n",
      "           1       0.56      0.73      0.63     35115\n",
      "           2       0.53      0.46      0.49     21732\n",
      "           3       0.45      0.16      0.24      4870\n",
      "           4       0.14      0.02      0.04       194\n",
      "\n",
      "    accuracy                           0.61     93868\n",
      "   macro avg       0.49      0.41      0.42     93868\n",
      "weighted avg       0.62      0.61      0.61     93868\n",
      "\n"
     ]
    }
   ],
   "source": [
    "print(classification_report(y_val, model_rf.predict(X_val)))"
   ]
  },
  {
   "cell_type": "code",
   "execution_count": 14,
   "metadata": {
    "scrolled": true
   },
   "outputs": [
    {
     "data": {
      "image/png": "[encoded data removed]",
      "text/plain": [
       "<Figure size 432x288 with 2 Axes>"
      ]
     },
     "metadata": {
      "needs_background": "light"
     },
     "output_type": "display_data"
    }
   ],
   "source": [
    "rf_val_cmatrix = plot_confusion_matrix(model_rf, X_val, y_val,)\n",
    "rf_val_cmatrix;"
   ]
  },
  {
   "cell_type": "code",
   "execution_count": 15,
   "metadata": {},
   "outputs": [
    {
     "data": {
      "image/png": "[encoded data removed]",
      "text/plain": [
       "<Figure size 432x288 with 2 Axes>"
      ]
     },
     "metadata": {
      "needs_background": "light"
     },
     "output_type": "display_data"
    }
   ],
   "source": [
    "rf_test_cmatrix = plot_confusion_matrix(model_rf, X_test, y_test,)\n",
    "rf_test_cmatrix;"
   ]
  },
  {
   "cell_type": "markdown",
   "metadata": {},
   "source": [
    "## Tune Model"
   ]
  },
  {
   "cell_type": "markdown",
   "metadata": {},
   "source": [
    "### Permutation Importances (to negate features in wrangle)"
   ]
  },
  {
   "cell_type": "code",
   "execution_count": 21,
   "metadata": {},
   "outputs": [
    {
     "name": "stderr",
     "output_type": "stream",
     "text": [
      "C:\\ProgramData\\Anaconda3\\lib\\site-packages\\xgboost\\data.py:112: UserWarning: Use subset (sliced data) of np.ndarray is not recommended because it will generate extra copies and increase memory consumption\n",
      "  warnings.warn(\n"
     ]
    }
   ],
   "source": [
    "# Calculate permutation importances\n",
    "perm_imp = permutation_importance(\n",
    "    model_xgb,\n",
    "    X_val,\n",
    "    y_val,\n",
    "    n_repeats=8,\n",
    "    n_jobs=-2,\n",
    "    random_state=41)"
   ]
  },
  {
   "cell_type": "code",
   "execution_count": 27,
   "metadata": {},
   "outputs": [
    {
     "data": {
      "image/png": "[encoded data removed]",
      "text/plain": [
       "<Figure size 432x288 with 1 Axes>"
      ]
     },
     "metadata": {
      "needs_background": "light"
     },
     "output_type": "display_data"
    }
   ],
   "source": [
    "# Plot the permutation importances\n",
    "\n",
    "# Create a data frame of the importances and feature names\n",
    "data = {'imp_mean': perm_imp['importances_mean'],\n",
    "        'imp_std': perm_imp['importances_std']}\n",
    "imp_df = pd.DataFrame(data, index=X_val.columns).sort_values('imp_mean')\n",
    "\n",
    "# Plot a bar chart\n",
    "imp_df['imp_mean'].plot(kind='barh');"
   ]
  },
  {
   "cell_type": "markdown",
   "metadata": {},
   "source": [
    "### Hyper parameter tuning"
   ]
  },
  {
   "cell_type": "code",
   "execution_count": 28,
   "metadata": {},
   "outputs": [
    {
     "name": "stdout",
     "output_type": "stream",
     "text": [
      "Fitting 5 folds for each of 5 candidates, totalling 25 fits\n"
     ]
    },
    {
     "name": "stderr",
     "output_type": "stream",
     "text": [
      "[Parallel(n_jobs=-2)]: Using backend LokyBackend with 15 concurrent workers.\n",
      "[Parallel(n_jobs=-2)]: Done   5 out of  25 | elapsed: 14.5min remaining: 57.8min\n",
      "[Parallel(n_jobs=-2)]: Done  14 out of  25 | elapsed: 44.2min remaining: 34.7min\n",
      "[Parallel(n_jobs=-2)]: Done  23 out of  25 | elapsed: 53.2min remaining:  4.6min\n",
      "[Parallel(n_jobs=-2)]: Done  25 out of  25 | elapsed: 53.3min finished\n",
      "C:\\ProgramData\\Anaconda3\\lib\\site-packages\\xgboost\\sklearn.py:1146: UserWarning: The use of label encoder in XGBClassifier is deprecated and will be removed in a future release. To remove this warning, do the following: 1) Pass option use_label_encoder=False when constructing XGBClassifier object; and 2) Encode your labels (y) as integers starting with 0, i.e. 0, 1, 2, ..., [num_class - 1].\n",
      "  warnings.warn(label_encoder_deprecation_msg, UserWarning)\n"
     ]
    },
    {
     "name": "stdout",
     "output_type": "stream",
     "text": [
      "[02:02:40] WARNING: C:/Users/Administrator/workspace/xgboost-win64_release_1.4.0/src/learner.cc:1095: Starting in XGBoost 1.3.0, the default evaluation metric used with the objective 'multi:softprob' was changed from 'merror' to 'mlogloss'. Explicitly set eval_metric if you'd like to restore the old behavior.\n"
     ]
    },
    {
     "name": "stderr",
     "output_type": "stream",
     "text": [
      "C:\\ProgramData\\Anaconda3\\lib\\site-packages\\xgboost\\data.py:112: UserWarning: Use subset (sliced data) of np.ndarray is not recommended because it will generate extra copies and increase memory consumption\n",
      "  warnings.warn(\n"
     ]
    },
    {
     "name": "stdout",
     "output_type": "stream",
     "text": [
      "{'xgbclassifier__reg_alpha': 0.8, 'xgbclassifier__n_estimators': 110, 'xgbclassifier__max_depth': 26, 'xgbclassifier__learning_rate': 0.060000000000000005, 'xgbclassifier__gamma': 0.1} 0.6225870371159501\n"
     ]
    },
    {
     "data": {
      "text/plain": [
       "[({'xgbclassifier__reg_alpha': 0.8,\n",
       "   'xgbclassifier__n_estimators': 110,\n",
       "   'xgbclassifier__max_depth': 26,\n",
       "   'xgbclassifier__learning_rate': 0.060000000000000005,\n",
       "   'xgbclassifier__gamma': 0.1},\n",
       "  0.6225870371159501)]"
      ]
     },
     "execution_count": 28,
     "metadata": {},
     "output_type": "execute_result"
    }
   ],
   "source": [
    "# Do a randomized search to start the tuning process\n",
    "\n",
    "# Setup empty results list\n",
    "results = []\n",
    "\n",
    "# Recall the pipeline(s)\n",
    "model_xgb = make_pipeline(\n",
    "    OrdinalEncoder(),\n",
    "    StandardScaler(),\n",
    "    XGBClassifier(random_state=73)\n",
    ")\n",
    "\n",
    "# Set a dictionary of the parameters to test\n",
    "params = {\n",
    "    'xgbclassifier__max_depth': np.arange(14, 40, 2),\n",
    "    'xgbclassifier__n_estimators': np.arange(25, 150, 5),\n",
    "    'xgbclassifier__learning_rate': np.arange(0.01, 0.11, 0.01),\n",
    "    'xgbclassifier__gamma': np.arange(0.0, 1.1, 0.1),\n",
    "    'xgbclassifier__reg_alpha': np.arange(0.0, 1.1, 0.1),\n",
    "}\n",
    "\n",
    "# Instatiate a RandomizedSearchCV model \n",
    "model_rs = RandomizedSearchCV(model_xgb, params, n_iter=5, n_jobs=-2, verbose=3)\n",
    "\n",
    "# Store some results to choose from and then run through the model at the top\n",
    "model_rs.fit(X_train, y_train)\n",
    "val_acc = accuracy_score(y_val, model_rs.predict(X_val))\n",
    "results.append((model_rs.best_params_, val_acc))\n",
    "\n",
    "# Compare results\n",
    "print(model_rs.best_params_, val_acc)\n",
    "results"
   ]
  },
  {
   "cell_type": "markdown",
   "metadata": {},
   "source": [
    "## Communicate Results"
   ]
  },
  {
   "cell_type": "markdown",
   "metadata": {},
   "source": [
    "The model improved with a random search, but I really should have gone back and taken out some columns first.\n",
    "\n",
    "I need to cut down the data frame a bit, then I could go back and try some more tuning."
   ]
  },
  {
   "cell_type": "code",
   "execution_count": null,
   "metadata": {},
   "outputs": [],
   "source": []
  }
 ],
 "metadata": {
  "kernelspec": {
   "display_name": "Python 3",
   "language": "python",
   "name": "python3"
  },
  "language_info": {
   "codemirror_mode": {
    "name": "ipython",
    "version": 3
   },
   "file_extension": ".py",
   "mimetype": "text/x-python",
   "name": "python",
   "nbconvert_exporter": "python",
   "pygments_lexer": "ipython3",
   "version": "3.8.7"
  }
 },
 "nbformat": 4,
 "nbformat_minor": 4
}
