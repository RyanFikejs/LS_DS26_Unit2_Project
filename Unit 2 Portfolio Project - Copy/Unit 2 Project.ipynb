{
 "cells": [
  {
   "cell_type": "markdown",
   "metadata": {},
   "source": [
    "# Unit 2 Portfolio Project\n",
    "## Predictive Modeling with Spotify Data\n",
    "Ryan Fikejs - *Data Science, Lambda School DS 26*"
   ]
  },
  {
   "cell_type": "markdown",
   "metadata": {},
   "source": [
    "### Module 1 Tasks\n",
    "\n",
    "*Choose your target. Which column in your tabular dataset will you predict?*\n",
    "\n",
    "My target is the popularity rating.\n",
    "\n",
    "*Is your problem regression or classification?*\n",
    "\n",
    "Currently considering it a large scale classification problem, (there are 101 classes involved) wondering if I should cut it down as was done in the burrito problem and say a popularity rating of 80-100 is very popular, below 80 is not very popular.\n",
    "\n",
    "*How is your target distributed?*\n",
    "\n",
    "*Classification: How many classes? Are the classes imbalanced?*\n",
    "\n",
    "101 classes very imbalanced.\n",
    "\n",
    "*Choose your evaluation metric(s).*\n",
    "\n",
    "*Classification: Is your majority class frequency >= 50% and < 70% ? If so, you can just use accuracy if you want. Outside that \n",
    "range, accuracy could be misleading. What evaluation metric will you choose, in addition to or instead of accuracy?*\n",
    "\n",
    "No, I will likely be using F1-score and AUC of ROC. (Maybe categorical crossentropy if I learn enough about it and it makes sense to, I heard it's good for generalizing multiclass problems, but is typically used with neural networks.)\n",
    "\n",
    "*Choose which observations you will use to train, validate, and test your model.*\n",
    "\n",
    "I will use a random selection via train test split to separate atraining set and cross validation for training and validation.\n",
    "\n",
    "*Are some observations outliers? Will you exclude them?*\n",
    "\n",
    "No\n",
    "\n",
    "*Will you do a random split or a time-based split?*\n",
    "\n",
    "Random split\n",
    "\n",
    "*Begin to clean and explore your data.*\n",
    "\n",
    "*Begin to choose which features, if any, to exclude. Would some features \"leak\" future information?*\n",
    "\n",
    "I will leave out song ID and name. I may keep either artists or id_artists."
   ]
  },
  {
   "cell_type": "markdown",
   "metadata": {},
   "source": [
    "## I. Wrangle Data"
   ]
  },
  {
   "cell_type": "markdown",
   "metadata": {},
   "source": [
    "### Import packages"
   ]
  },
  {
   "cell_type": "code",
   "execution_count": 1,
   "metadata": {},
   "outputs": [],
   "source": [
    "# For data frame manipulation\n",
    "import pandas as pd\n",
    "\n",
    "# For more math horsepower\n",
    "import numpy as np\n",
    "\n",
    "# For plotting\n",
    "import matplotlib.pyplot as plt\n",
    "\n",
    "# For pipeline and model building\n",
    "from sklearn.pipeline import make_pipeline\n",
    "from category_encoders import OrdinalEncoder\n",
    "from sklearn.preprocessing import StandardScaler\n",
    "from sklearn.model_selection import train_test_split, cross_val_score, RandomizedSearchCV\n",
    "from sklearn.ensemble import RandomForestClassifier\n",
    "from sklearn.metrics import accuracy_score, plot_confusion_matrix, classification_report"
   ]
  },
  {
   "cell_type": "markdown",
   "metadata": {},
   "source": [
    "## Wrangle Data"
   ]
  },
  {
   "cell_type": "code",
   "execution_count": 13,
   "metadata": {},
   "outputs": [],
   "source": [
    "def wrangle(file_path):\n",
    "    df = pd.read_csv(file_path,\n",
    "                    parse_dates=['release_date'])\n",
    "    \n",
    "    # Split release_date into day, month, year, then drop it\n",
    "    df['released_year'] = df['release_date'].dt.year\n",
    "    df['released_month'] = df['release_date'].dt.month\n",
    "    df['released_day'] = df['release_date'].dt.day\n",
    "    df.drop(columns=['release_date'], inplace=True)\n",
    "     \n",
    "    # Drop columns I suspect do not imfluence the target, or are redundant\n",
    "    df.drop(columns=['id', 'name', 'artists'], inplace=True)\n",
    "    \n",
    "    return df"
   ]
  },
  {
   "cell_type": "code",
   "execution_count": 14,
   "metadata": {},
   "outputs": [],
   "source": [
    "df = wrangle('data/tracks.csv')"
   ]
  },
  {
   "cell_type": "code",
   "execution_count": 15,
   "metadata": {},
   "outputs": [
    {
     "name": "stdout",
     "output_type": "stream",
     "text": [
      "<class 'pandas.core.frame.DataFrame'>\n",
      "RangeIndex: 586672 entries, 0 to 586671\n",
      "Data columns (total 20 columns):\n",
      " #   Column            Non-Null Count   Dtype  \n",
      "---  ------            --------------   -----  \n",
      " 0   popularity        586672 non-null  int64  \n",
      " 1   duration_ms       586672 non-null  int64  \n",
      " 2   explicit          586672 non-null  int64  \n",
      " 3   id_artists        586672 non-null  object \n",
      " 4   danceability      586672 non-null  float64\n",
      " 5   energy            586672 non-null  float64\n",
      " 6   key               586672 non-null  int64  \n",
      " 7   loudness          586672 non-null  float64\n",
      " 8   mode              586672 non-null  int64  \n",
      " 9   speechiness       586672 non-null  float64\n",
      " 10  acousticness      586672 non-null  float64\n",
      " 11  instrumentalness  586672 non-null  float64\n",
      " 12  liveness          586672 non-null  float64\n",
      " 13  valence           586672 non-null  float64\n",
      " 14  tempo             586672 non-null  float64\n",
      " 15  time_signature    586672 non-null  int64  \n",
      " 16  released_year     586672 non-null  int64  \n",
      " 17  released_month    586672 non-null  int64  \n",
      " 18  released_day      586672 non-null  int64  \n",
      " 19  popular           586672 non-null  int64  \n",
      "dtypes: float64(9), int64(10), object(1)\n",
      "memory usage: 89.5+ MB\n"
     ]
    }
   ],
   "source": [
    "df.info()"
   ]
  },
  {
   "cell_type": "code",
   "execution_count": 16,
   "metadata": {},
   "outputs": [
    {
     "name": "stdout",
     "output_type": "stream",
     "text": [
      "1    219413\n",
      "0    199566\n",
      "2    136353\n",
      "3     30107\n",
      "4      1233\n",
      "Name: popular, dtype: int64\n"
     ]
    },
    {
     "data": {
      "image/png": "[encoded data removed]",
      "text/plain": [
       "<Figure size 432x288 with 1 Axes>"
      ]
     },
     "metadata": {
      "needs_background": "light"
     },
     "output_type": "display_data"
    }
   ],
   "source": [
    "# Look at the distribution of the target\n",
    "class_dist = df['popular']\n",
    "print(class_dist.value_counts())\n",
    "plt.hist(class_dist, bins=5);"
   ]
  },
  {
   "cell_type": "code",
   "execution_count": 7,
   "metadata": {},
   "outputs": [
    {
     "data": {
      "text/plain": [
       "popularity             101\n",
       "duration_ms         123122\n",
       "explicit                 2\n",
       "id_artists          115062\n",
       "danceability          1285\n",
       "energy                2571\n",
       "key                     12\n",
       "loudness             29196\n",
       "mode                     2\n",
       "speechiness           1655\n",
       "acousticness          5217\n",
       "instrumentalness      5402\n",
       "liveness              1782\n",
       "valence               1805\n",
       "tempo               122706\n",
       "time_signature           5\n",
       "released_year          101\n",
       "released_month          12\n",
       "released_day            31\n",
       "dtype: int64"
      ]
     },
     "execution_count": 7,
     "metadata": {},
     "output_type": "execute_result"
    }
   ],
   "source": [
    "df.nunique()"
   ]
  },
  {
   "cell_type": "code",
   "execution_count": 8,
   "metadata": {},
   "outputs": [
    {
     "data": {
      "text/plain": [
       "popularity          0\n",
       "duration_ms         0\n",
       "explicit            0\n",
       "id_artists          0\n",
       "danceability        0\n",
       "energy              0\n",
       "key                 0\n",
       "loudness            0\n",
       "mode                0\n",
       "speechiness         0\n",
       "acousticness        0\n",
       "instrumentalness    0\n",
       "liveness            0\n",
       "valence             0\n",
       "tempo               0\n",
       "time_signature      0\n",
       "released_year       0\n",
       "released_month      0\n",
       "released_day        0\n",
       "dtype: int64"
      ]
     },
     "execution_count": 8,
     "metadata": {},
     "output_type": "execute_result"
    }
   ],
   "source": [
    "df.isnull().sum()"
   ]
  },
  {
   "cell_type": "code",
   "execution_count": null,
   "metadata": {},
   "outputs": [],
   "source": []
  },
  {
   "cell_type": "markdown",
   "metadata": {},
   "source": [
    "## Split Data"
   ]
  },
  {
   "cell_type": "code",
   "execution_count": 9,
   "metadata": {},
   "outputs": [],
   "source": [
    "# Establish the target and split the data accordingly\n",
    "target = 'popularity'\n",
    "X_ = df.drop(columns=target)\n",
    "y_ = df[target]"
   ]
  },
  {
   "cell_type": "code",
   "execution_count": 10,
   "metadata": {},
   "outputs": [],
   "source": [
    "# Split the data into training and testing sets\n",
    "X, X_test, y, y_test = train_test_split(X_, y_, train_size=0.8, random_state=73)\n",
    "\n",
    "# Further split training set into training and \n",
    "# validation for initial model\n",
    "X_train, X_val, y_train, y_val = train_test_split(X, y, train_size=0.8, random_state=37)"
   ]
  },
  {
   "cell_type": "markdown",
   "metadata": {},
   "source": [
    "## Establish a Baseline"
   ]
  },
  {
   "cell_type": "code",
   "execution_count": 11,
   "metadata": {},
   "outputs": [
    {
     "name": "stdout",
     "output_type": "stream",
     "text": [
      "Baseline: 0.07610949062187725\n"
     ]
    }
   ],
   "source": [
    "baseline = y.value_counts(normalize=True).max()\n",
    "print(f'Baseline: {baseline}')"
   ]
  },
  {
   "cell_type": "code",
   "execution_count": null,
   "metadata": {},
   "outputs": [],
   "source": []
  },
  {
   "cell_type": "markdown",
   "metadata": {},
   "source": [
    "## Build a Model"
   ]
  },
  {
   "cell_type": "code",
   "execution_count": 12,
   "metadata": {
    "scrolled": true
   },
   "outputs": [
    {
     "data": {
      "text/plain": [
       "Pipeline(steps=[('ordinalencoder',\n",
       "                 OrdinalEncoder(cols=['id_artists'],\n",
       "                                mapping=[{'col': 'id_artists',\n",
       "                                          'data_type': dtype('O'),\n",
       "                                          'mapping': ['7Ch5fs1WRyYzlkiclW5tFJ']        1\n",
       "['2tRsMl4eGxwoNabM08Dm4I']        2\n",
       "['48YxSlb23RAaCd4RyHcV9V']        3\n",
       "['7rcYk7wXrIQYA2qBccfscc']        4\n",
       "['2clfvqAuuKp7PEhl6ZadTl']        5\n",
       "                              ...  \n",
       "['7AfDbA1rEHwRhzPH6jHSUE']    88316\n",
       "['66BpLv7bc0OLbr50D1cnGS']    88317\n",
       "['2ZVhkGdeedqMVD3oQM0O6N']    88318\n",
       "['7xYxgSJaIf7yOFLmknYX38']    88319\n",
       "NaN                              -2\n",
       "Length: 88320, dtype: int64}])),\n",
       "                ('standardscaler', StandardScaler()),\n",
       "                ('randomforestclassifier',\n",
       "                 RandomForestClassifier(n_jobs=-2, random_state=37))])"
      ]
     },
     "execution_count": 12,
     "metadata": {},
     "output_type": "execute_result"
    }
   ],
   "source": [
    "# Make a model using a random forest\n",
    "model_rf = make_pipeline(\n",
    "            OrdinalEncoder(),\n",
    "            StandardScaler(),\n",
    "            RandomForestClassifier(random_state=37, n_jobs=-2))\n",
    "\n",
    "model_rf.fit(X_train, y_train)"
   ]
  },
  {
   "cell_type": "markdown",
   "metadata": {},
   "source": [
    "## Check Metrics"
   ]
  },
  {
   "cell_type": "code",
   "execution_count": 18,
   "metadata": {},
   "outputs": [
    {
     "name": "stdout",
     "output_type": "stream",
     "text": [
      "0.9907555617108204\n",
      "0.12362040311927387\n"
     ]
    }
   ],
   "source": [
    "# Accuracy scores for above\n",
    "print(accuracy_score(y_train, model_rf.predict(X_train)))\n",
    "print(accuracy_score(y_val, model_rf.predict(X_val)))"
   ]
  },
  {
   "cell_type": "code",
   "execution_count": 21,
   "metadata": {},
   "outputs": [
    {
     "name": "stdout",
     "output_type": "stream",
     "text": [
      "              precision    recall  f1-score   support\n",
      "\n",
      "           0       0.55      0.90      0.68      7071\n",
      "           1       0.23      0.23      0.23      1957\n",
      "           2       0.13      0.17      0.15      1580\n",
      "           3       0.08      0.08      0.08      1265\n",
      "           4       0.09      0.08      0.08      1225\n",
      "           5       0.08      0.07      0.08      1238\n",
      "           6       0.08      0.08      0.08      1263\n",
      "           7       0.07      0.07      0.07      1254\n",
      "           8       0.08      0.08      0.08      1298\n",
      "           9       0.06      0.06      0.06      1359\n",
      "          10       0.06      0.05      0.06      1291\n",
      "          11       0.05      0.05      0.05      1269\n",
      "          12       0.06      0.05      0.05      1242\n",
      "          13       0.05      0.05      0.05      1345\n",
      "          14       0.07      0.07      0.07      1431\n",
      "          15       0.05      0.05      0.05      1443\n",
      "          16       0.06      0.07      0.07      1491\n",
      "          17       0.06      0.06      0.06      1485\n",
      "          18       0.05      0.05      0.05      1450\n",
      "          19       0.08      0.10      0.09      1713\n",
      "          20       0.06      0.07      0.07      1638\n",
      "          21       0.06      0.07      0.06      1683\n",
      "          22       0.06      0.08      0.07      1765\n",
      "          23       0.06      0.08      0.07      1907\n",
      "          24       0.05      0.06      0.06      1782\n",
      "          25       0.04      0.05      0.04      1789\n",
      "          26       0.05      0.05      0.05      1722\n",
      "          27       0.09      0.10      0.09      1820\n",
      "          28       0.08      0.09      0.08      1724\n",
      "          29       0.06      0.07      0.06      1742\n",
      "          30       0.04      0.04      0.04      1556\n",
      "          31       0.04      0.04      0.04      1678\n",
      "          32       0.06      0.06      0.06      1729\n",
      "          33       0.06      0.06      0.06      1800\n",
      "          34       0.06      0.06      0.06      1857\n",
      "          35       0.11      0.12      0.11      1982\n",
      "          36       0.12      0.12      0.12      1856\n",
      "          37       0.07      0.06      0.06      1731\n",
      "          38       0.05      0.04      0.04      1641\n",
      "          39       0.05      0.05      0.05      1605\n",
      "          40       0.04      0.04      0.04      1565\n",
      "          41       0.05      0.04      0.04      1596\n",
      "          42       0.04      0.03      0.03      1403\n",
      "          43       0.03      0.03      0.03      1419\n",
      "          44       0.04      0.03      0.03      1372\n",
      "          45       0.03      0.02      0.03      1283\n",
      "          46       0.02      0.01      0.01      1144\n",
      "          47       0.04      0.03      0.03      1134\n",
      "          48       0.03      0.02      0.02      1085\n",
      "          49       0.04      0.02      0.03      1038\n",
      "          50       0.03      0.02      0.02       988\n",
      "          51       0.03      0.02      0.02       918\n",
      "          52       0.02      0.01      0.02       902\n",
      "          53       0.05      0.02      0.03       826\n",
      "          54       0.04      0.04      0.04       766\n",
      "          55       0.04      0.02      0.03       751\n",
      "          56       0.03      0.02      0.02       686\n",
      "          57       0.03      0.01      0.02       659\n",
      "          58       0.02      0.01      0.01       592\n",
      "          59       0.03      0.01      0.02       507\n",
      "          60       0.05      0.02      0.03       497\n",
      "          61       0.05      0.02      0.03       457\n",
      "          62       0.01      0.00      0.00       441\n",
      "          63       0.02      0.01      0.01       383\n",
      "          64       0.03      0.01      0.01       329\n",
      "          65       0.01      0.00      0.00       299\n",
      "          66       0.03      0.02      0.02       263\n",
      "          67       0.01      0.00      0.01       237\n",
      "          68       0.01      0.00      0.01       218\n",
      "          69       0.00      0.00      0.00       202\n",
      "          70       0.00      0.00      0.00       186\n",
      "          71       0.01      0.01      0.01       178\n",
      "          72       0.01      0.01      0.01       138\n",
      "          73       0.00      0.00      0.00       123\n",
      "          74       0.00      0.00      0.00       120\n",
      "          75       0.00      0.00      0.00        95\n",
      "          76       0.00      0.00      0.00        75\n",
      "          77       0.00      0.00      0.00        65\n",
      "          78       0.05      0.02      0.03        57\n",
      "          79       0.00      0.00      0.00        38\n",
      "          80       0.00      0.00      0.00        36\n",
      "          81       0.00      0.00      0.00        21\n",
      "          82       0.00      0.00      0.00        20\n",
      "          83       0.00      0.00      0.00        20\n",
      "          84       0.00      0.00      0.00        17\n",
      "          85       0.00      0.00      0.00        11\n",
      "          86       0.00      0.00      0.00         7\n",
      "          87       0.00      0.00      0.00         9\n",
      "          88       0.00      0.00      0.00         3\n",
      "          89       0.00      0.00      0.00         2\n",
      "          90       0.00      0.00      0.00         1\n",
      "          91       0.00      0.00      0.00         1\n",
      "          92       0.00      0.00      0.00         2\n",
      "          93       0.00      0.00      0.00         1\n",
      "          94       0.00      0.00      0.00         2\n",
      "          95       0.00      0.00      0.00         1\n",
      "          97       0.00      0.00      0.00         1\n",
      "          99       0.00      0.00      0.00         1\n",
      "\n",
      "    accuracy                           0.12     93868\n",
      "   macro avg       0.04      0.04      0.04     93868\n",
      "weighted avg       0.10      0.12      0.11     93868\n",
      "\n"
     ]
    },
    {
     "name": "stderr",
     "output_type": "stream",
     "text": [
      "C:\\ProgramData\\Anaconda3\\lib\\site-packages\\sklearn\\metrics\\_classification.py:1221: UndefinedMetricWarning: Precision and F-score are ill-defined and being set to 0.0 in labels with no predicted samples. Use `zero_division` parameter to control this behavior.\n",
      "  _warn_prf(average, modifier, msg_start, len(result))\n"
     ]
    }
   ],
   "source": [
    "print(classification_report(y_val, model_rf.predict(X_val)))"
   ]
  },
  {
   "cell_type": "markdown",
   "metadata": {},
   "source": [
    "## Tune Model"
   ]
  },
  {
   "cell_type": "code",
   "execution_count": null,
   "metadata": {},
   "outputs": [],
   "source": []
  },
  {
   "cell_type": "code",
   "execution_count": null,
   "metadata": {},
   "outputs": [],
   "source": []
  },
  {
   "cell_type": "markdown",
   "metadata": {},
   "source": [
    "## Communicate Results"
   ]
  },
  {
   "cell_type": "code",
   "execution_count": null,
   "metadata": {},
   "outputs": [],
   "source": []
  },
  {
   "cell_type": "code",
   "execution_count": null,
   "metadata": {},
   "outputs": [],
   "source": []
  }
 ],
 "metadata": {
  "kernelspec": {
   "display_name": "Python 3",
   "language": "python",
   "name": "python3"
  },
  "language_info": {
   "codemirror_mode": {
    "name": "ipython",
    "version": 3
   },
   "file_extension": ".py",
   "mimetype": "text/x-python",
   "name": "python",
   "nbconvert_exporter": "python",
   "pygments_lexer": "ipython3",
   "version": "3.8.5"
  }
 },
 "nbformat": 4,
 "nbformat_minor": 4
}
